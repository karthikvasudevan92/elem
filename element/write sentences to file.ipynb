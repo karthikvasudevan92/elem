{
 "cells": [
  {
   "cell_type": "code",
   "execution_count": 6,
   "metadata": {
    "slideshow": {
     "slide_type": "-"
    }
   },
   "outputs": [
    {
     "name": "stdout",
     "output_type": "stream",
     "text": [
      "6) the big lebowski\n",
      "8) Gattaca\n",
      "9) fight club\n",
      "10) glengarry glen ross\n",
      "11) the big lebowski hindi\n",
      "12) the big lebowski excerpt hindi\n",
      "13) the big lebowski excerpt hindi 2\n",
      "7) the big lebowski excerpt\n",
      "selected script: 7) the big lebowski excerpt\n"
     ]
    }
   ],
   "source": [
    "from scripts.models import Script\n",
    "for script in Script.objects.all():\n",
    "    print(str(script.id)+') '+script.name)"
   ]
  },
  {
   "cell_type": "code",
   "execution_count": 1,
   "metadata": {},
   "outputs": [
    {
     "name": "stdout",
     "output_type": "stream",
     "text": [
      "selected script: 6) the big lebowski\n"
     ]
    }
   ],
   "source": [
    "script = Script.objects.get(pk=6)\n",
    "print('selected script: '+str(script.id)+') '+script.name)"
   ]
  },
  {
   "cell_type": "code",
   "execution_count": 2,
   "metadata": {
    "slideshow": {
     "slide_type": "-"
    }
   },
   "outputs": [],
   "source": [
    "lines = script.lines.all()\n",
    "sentences = []\n",
    "open(script.name+'.html', 'w+').close()\n",
    "with open(script.name+'.html', 'w+') as f:\n",
    "    for line in lines:\n",
    "        for sentence in line.sentences.all():\n",
    "            sentences.append(sentence)\n",
    "            f.write('<p>')\n",
    "            f.write(sentence.text)\n",
    "            f.write('</p>')\n",
    "            f.write('\\n')\n",
    "            f.write('\\n')"
   ]
  },
  {
   "cell_type": "code",
   "execution_count": null,
   "metadata": {},
   "outputs": [],
   "source": []
  }
 ],
 "metadata": {
  "kernelspec": {
   "display_name": "Django Shell-Plus",
   "language": "python",
   "name": "django_extensions"
  },
  "language_info": {
   "codemirror_mode": {
    "name": "ipython",
    "version": 3
   },
   "file_extension": ".py",
   "mimetype": "text/x-python",
   "name": "python",
   "nbconvert_exporter": "python",
   "pygments_lexer": "ipython3",
   "version": "3.5.2"
  }
 },
 "nbformat": 4,
 "nbformat_minor": 2
}
